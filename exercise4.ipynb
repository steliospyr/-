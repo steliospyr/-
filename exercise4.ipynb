{
  "nbformat": 4,
  "nbformat_minor": 0,
  "metadata": {
    "colab": {
      "provenance": [],
      "include_colab_link": true
    },
    "kernelspec": {
      "name": "python3",
      "display_name": "Python 3"
    },
    "language_info": {
      "name": "python"
    }
  },
  "cells": [
    {
      "cell_type": "markdown",
      "metadata": {
        "id": "view-in-github",
        "colab_type": "text"
      },
      "source": [
        "<a href=\"https://colab.research.google.com/github/steliospyr/-/blob/main/exercise4.ipynb\" target=\"_parent\"><img src=\"https://colab.research.google.com/assets/colab-badge.svg\" alt=\"Open In Colab\"/></a>"
      ]
    },
    {
      "cell_type": "markdown",
      "source": [
        "### Άσκηση 1\n",
        "\n",
        "Φτιάξτε ένα νέο κελί κώδικα ακριβώς από κάτω και:\n",
        "\n",
        "- Φτιάξτε μια λίστα με όνομα titlesL και βάλτε μέσα τους τίτλους 3 αγαπημένων σας ταινιών\n",
        "- Φτιάξτε άλλη μια λίστα με όνομα ratingsL και βάλτε μέσα το βαθμό (από το 1 έως το 10) που θα βάζατε σε καθε μια από τις ταινίες\n",
        "- Φτιάξτε μια for loop που να τρέχει για όλα τα αντικείμενα της λίστας των ταινιών και να τυπώνει το όνομά της και το βαθμό της.\n",
        "\n",
        "Hints:\n",
        "Δεδομενου ότι οι δύο λίστες έχουν τον ίδιο αριθμό αντικειμένων και η σειρά των βαθμολογιών αντιστοιχεί στη σειρά των ταινιών, μπορείτε να χρησιμοποιήσετε τον αριθμό του index και την range() σε συνδυασμό με τη len().\n",
        "\n",
        "**Γράψτε σε comment τι κάνει η κάθε γραμμή του κώδικά σας.**\n"
      ],
      "metadata": {
        "id": "QOAgGYGWvJIp"
      }
    },
    {
      "cell_type": "code",
      "source": [
        "titlesL= [\"the goodfellas\", \"oldboy\", \"transformers\"]\n",
        "ratingsL= [\"10\", \"9.6\", \"8\" ]\n"
      ],
      "metadata": {
        "id": "wxuW62Ly2z8q"
      },
      "execution_count": 3,
      "outputs": []
    },
    {
      "cell_type": "code",
      "source": [
        "for i in range(len(titlesL)):\n",
        "    print(titlesL[i], ratingsL[i])"
      ],
      "metadata": {
        "id": "OGXpTtkjKt2q",
        "outputId": "f6622f30-edc4-4392-8c4e-ed7710857639",
        "colab": {
          "base_uri": "https://localhost:8080/"
        }
      },
      "execution_count": 4,
      "outputs": [
        {
          "output_type": "stream",
          "name": "stdout",
          "text": [
            "the goodfellas 10\n",
            "oldboy 9.6\n",
            "transformers 8\n"
          ]
        }
      ]
    },
    {
      "cell_type": "markdown",
      "source": [
        "### Άσκηση 2\n",
        "\n",
        "Φτιάξτε ένα νέο κελί κώδικα ακριβώς από κάτω και:\n",
        "\n",
        "- Φτιάξτε μια λίστα με όνομα titlesL και βάλτε μέσα τους τίτλους 3 αγαπημένων σας ταινιών\n",
        "- Φτιάξτε άλλη μια λίστα με όνομα ratingsL και βάλτε μέσα το βαθμό (από το 1 έως το 10) που θα βάζατε σε καθε μια από τις ταινίες\n",
        "\n",
        "**Αν κάνατε την προηγούμενη άσκηση, χρησιμοποιήστε τις ήδη δημιουργημένες λίστες titlesL και ratingsL - δλδ μην φτιάξετε καινούριες λίστες για το ίδιο πράγμα**\n",
        "\n",
        "- Φτιάξτε μια κενή λίστα με όνομα moviesL\n",
        "\n",
        "Φτιάξτε μια for loop που να τρέχει για όλα τα indexes της λίστας των ταινιών και να κάνει τα παρακάτω:\n",
        "- δημιουργεί ένα κενό λεξικό με όνομα movieD\n",
        "- φτιάχνει ένα item στο λεξικό με όνομα κλειδιού \"title\" και τιμή τον τίτλο που αντιστοιχεί στο εκάστοτε index της λίστας titlesL\n",
        "- φτιάχνει ένα item στο λεξικό με όνομα κλειδιού \"rating\" και τιμή το rating που αντιστοιχεδί στο εκάστοτε index της λίστας ratingsL\n",
        "- προσθέτει το λεξικό στη λίστα moviesL\n",
        "\n",
        "Τέλος, τυπώστε τη λίστα moviesL.\n",
        "\n",
        "**Γράψτε σε comment τι κάνει η κάθε γραμμή του κώδικά σας.**\n"
      ],
      "metadata": {
        "id": "TjFqUapc0JMr"
      }
    },
    {
      "cell_type": "code",
      "source": [],
      "metadata": {
        "id": "gDcAB6eG8AbC"
      },
      "execution_count": null,
      "outputs": []
    },
    {
      "cell_type": "markdown",
      "source": [
        "### Άσκηση 3\n",
        "\n",
        "Γράψτε ένα προγραμματάκι που θα αθροίζει όλους τους περιττούς αριθμούς από το 1 έως και το 100 και θα τυπώνει το τελικό άθροισμα.\n",
        "\n",
        "Hints & tips:\n",
        "\n",
        "- περιττοί είναι οι αριθμοί που το υπόλοιπο της διαίρεσής τους με το 2 ΔΕΝ είναι 0 (x % 2 != 0)\n",
        "- μπορούμε αρχικά να ορίσουμε ότι το άθροισμα των περιττών αριθμών είναι 0 (sum = 0)\n",
        "- στη συνέχεια μπορούμε να φτιάξουμε μια λούπα που θα κάνει τα εξής:\n",
        "  - για κάθε αριθμό από το 1 ως και το 100\n",
        "  - αν το υπόλοιπο της διαίρεσης του αριθμού με το 2 δεν είναι 0\n",
        "  - το άθροισμα θα αυξάνεται κατά τον αριθμό\n"
      ],
      "metadata": {
        "id": "_0torHabJHFA"
      }
    },
    {
      "cell_type": "code",
      "execution_count": null,
      "metadata": {
        "id": "rKIkwJofI3Cj"
      },
      "outputs": [],
      "source": []
    },
    {
      "cell_type": "markdown",
      "source": [
        "### Άσκηση 4\n",
        "\n",
        "Τροποποιήστε το παραπάνω πρόγραμμα έτσι ώστε, εκτός από το άθροισμα των περιττών, να υπολογίζει και να τυπώνει ΚΑΙ:\n",
        "- το πλήθος των περιττών αριθμών\n",
        "- το άθροισμα των ζυγών αριθμών στο ίδιο εύρος\n",
        "- το πλήθος των ζυγών αριθμών"
      ],
      "metadata": {
        "id": "zvsE7AANokOf"
      }
    },
    {
      "cell_type": "code",
      "source": [],
      "metadata": {
        "id": "Wza4cHEzO1Y_"
      },
      "execution_count": null,
      "outputs": []
    }
  ]
}