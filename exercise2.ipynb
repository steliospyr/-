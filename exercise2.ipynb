{
  "nbformat": 4,
  "nbformat_minor": 0,
  "metadata": {
    "colab": {
      "provenance": [],
      "include_colab_link": true
    },
    "kernelspec": {
      "name": "python3",
      "display_name": "Python 3"
    },
    "language_info": {
      "name": "python"
    }
  },
  "cells": [
    {
      "cell_type": "markdown",
      "metadata": {
        "id": "view-in-github",
        "colab_type": "text"
      },
      "source": [
        "<a href=\"https://colab.research.google.com/github/steliospyr/-/blob/main/exercise2.ipynb\" target=\"_parent\"><img src=\"https://colab.research.google.com/assets/colab-badge.svg\" alt=\"Open In Colab\"/></a>"
      ]
    },
    {
      "cell_type": "markdown",
      "source": [
        "### **Άσκηση 1**\n",
        "\n",
        "Φτιάξτε ένα νέο κελί κώδικα (Code cell) ακριβώς κάτω από αυτό και κάνετε τα παρακάτω:\n",
        "\n",
        "- Δημιουργήστε μια κενή λίστα με όνομα usersL\n",
        "- Φτιάξτε μια μεταβλητή με όνομα email1 και τιμή ένα email\n",
        "- Βρείτε το index του \"@\" και αποθηκεύστε το σε μια μεταβλητή με όνομα at1\n",
        "- Πάρτε (slice) το τμήμα του mail που έχει μόνο το όνομα, αποθηκεύστε το σε μια μεταβλητή με όνομα user1 και βάλτε το στη λίστα usersL\n",
        "- Επαναλάβετε τα βήματα 2-4 άλλη 1 φορά (κάντε copy-paste και αλλάξτε ό,τι χρειάζεται)\n",
        "- Ταξινομήστε τα περιεχόμενα της λίστας με αύξουσα σειρά και\n",
        "- Τυπώστε τα περιεχόμενά της στην οθόνη\n",
        "\n",
        "Hints & Tips:\n",
        "\n",
        "- το index ενός χαρακτήρα σε ένα string, θα το βρείτε με τη μέθοδο .index()\n",
        "- η πρόσθεση ενός αντικειμένου σε μια λίστα γίνεται με το .append()\n",
        "- η ταξινόμηση με αύξουσα σειρά των αντικειμένων σε μια λίστα γίνεται με το .sort()\n",
        "- χρησιμοποιήστε όσα κελιά θέλετε έτσι ώστε να ελέγχετε τι κάνετε σε κάθε βήμα\n"
      ],
      "metadata": {
        "id": "ENRszEnFK9j5"
      }
    },
    {
      "cell_type": "code",
      "execution_count": 31,
      "metadata": {
        "id": "nEY0waMjK8IF"
      },
      "outputs": [],
      "source": [
        "usersL = list()\n",
        "email1 = \"stelspyri@gmail.com\"\n",
        "email1.index(\"@\")\n",
        "at1 = 9\n"
      ]
    },
    {
      "cell_type": "code",
      "source": [
        "email[:9]\n",
        "\n"
      ],
      "metadata": {
        "id": "SXKFC7B2Ki6M",
        "outputId": "69744c51-127a-4e04-8f39-205e3d77818b",
        "colab": {
          "base_uri": "https://localhost:8080/",
          "height": 36
        }
      },
      "execution_count": 25,
      "outputs": [
        {
          "output_type": "execute_result",
          "data": {
            "text/plain": [
              "'stelspyri'"
            ],
            "application/vnd.google.colaboratory.intrinsic+json": {
              "type": "string"
            }
          },
          "metadata": {},
          "execution_count": 25
        }
      ]
    },
    {
      "cell_type": "code",
      "source": [
        "user1 = email[:9]\n",
        "usersL.append(user1)\n"
      ],
      "metadata": {
        "id": "Fwn5vtDHPFCf"
      },
      "execution_count": 26,
      "outputs": []
    },
    {
      "cell_type": "code",
      "source": [
        "usersL = list()\n",
        "email1 = \"stelspyri@gmail.com\"\n",
        "email1.index(\"@\")\n",
        "at1 = 9\n",
        "user1 = email[:9]\n",
        "usersL.append(user1)\n"
      ],
      "metadata": {
        "id": "UEObUfZANfnv"
      },
      "execution_count": null,
      "outputs": []
    },
    {
      "cell_type": "code",
      "source": [
        "usersL.sort()\n",
        "print(usersL)"
      ],
      "metadata": {
        "id": "B_TfFH6fPczT",
        "outputId": "22c6c38a-85da-44a4-ecc4-0be0be2d45f5",
        "colab": {
          "base_uri": "https://localhost:8080/"
        }
      },
      "execution_count": 29,
      "outputs": [
        {
          "output_type": "stream",
          "name": "stdout",
          "text": [
            "['stelspyri']\n"
          ]
        }
      ]
    },
    {
      "cell_type": "markdown",
      "source": [
        "\n",
        "\n",
        "---\n",
        "\n"
      ],
      "metadata": {
        "id": "pyn5In2oQNo3"
      }
    },
    {
      "cell_type": "markdown",
      "source": [
        "### **Άσκηση 2**:\n",
        "\n",
        "Μια συνήθης τυποποιημένη μορφή καταγραφής της ημερομηνίας δημοσίευσης των άρθρων στα ειδησεογραφικά sites είναι η εξής: ```2025-03-04T12:07:19+02:00``` και ονομάζεται ```datetime```.\n",
        "\n",
        "- το κομμάτι ```2025-03-04``` αναφέρεται στα ```έτος-μήνας-ημέρα```\n",
        "- το ```Τ``` υποδηλώνει ότι ακολουθεί η ώρα\n",
        "- το κομμάτι ```12:07:19``` αναφέρεται στα ```ώρα:λεπτά:δευτερόλεπτα```\n",
        "- το κομμάτι ```+02:00``` αναφέρεται στη διαφορά ώρας σε σχέση με την Παγκόσμια Συντονισμένη Ώρα (UTC - Coordinated Universal Time).\n",
        "\n",
        "**Άσκηση**:\n",
        "\n",
        "Ξεκινώντας από μια μεταβλητή με όνομα dateTime και τιμή την παραπάνω ημερομηνία-ώρα (2025-03-04T12:07:19+02:00), δημιουργήστε δύο μεταβλητές με ονόματα Date και Time στις οποίες θα αποθηκεύσετε αντίστοιχα την ημερομηνία και την ώρα.\n",
        "\n",
        "Στη συνέχεια, χρησιμοποιώντας τις μεταβλητές Date και Time που φτιάξατε, δημιουργήστε μια νέα μεταβλητή με όνομα custom_datetime η τιμή της οποίας θα είναι ένα string που θα περιέχει την ημέρομηνία και την ώρα στη μορφή: \"έτος, μήνας, ημέρα, ώρα:λεπτά:δευτερόλεπτα\" και τυπώστε τη στην οθόνη.\n",
        "\n",
        "*Hints*:\n",
        "- η τιμή της μεταβλητής dateTime είναι string, άρα μπορούμε να δουλέψουμε με αυτή σαν να είναι λίστα και να απομονώσουμε κομμάτια της χρησιμοποιώντας το index του πρώτου χαρακτήρα και του επόμενου από τον τελευταίο χαρακτήρα που θέλουμε (π.χ. dateTime[firstIndex:lastIndex+1])\n",
        "- ο επόμενος από τον τελευταίο χαρακτήρα της ημερομηνίας είναι το \"Τ\"\n",
        "- ο επόμενος από τον τελευταίο χαρακτήρα της ώρας είναι το \"+\"\n",
        "- μπορούμε να βρούμε το index ενός χαρακτήρα σε ένα string με τη μέθοδο index()\n",
        "- μπορούμε να αντικαταστήσουμε έναν χαρακτήρα σε ένα string με έναν άλλο χαρακτήρα με την εντολή replace(). Π.χ. μπορούμε να αντικαταστήσουμε σε ένα string τα κόμματα με τελείες με την εντολή string1.replace(\",\", \".\")\n",
        "- μπορούμε να ενώσουμε strings με το +. Π.χ. string3 = string1 + \", \" + string2 (το \", \" παρεμβάλει ανάμεσα στα αρχικά strings ένα κόμμα ακολουθούμενο από ένα κενό)\n",
        "\n",
        "*Tips*:\n",
        "- γράψτε μία-μία τις εντολές σε διαφορετικά κελιά και τυπώνετε το αποτέλεσμα της κάθε εντολής για να ελέγχετε το τι κάνετε\n",
        "- συμβουλευτείτε / αποδεχθείτε τις προτάσεις που σας κάνει το Gemini καθώς πληκτρολογείτε τις εντολές, πατώντας Tab - κάνετε διορθώσεις όπου χρειάζεται.\n",
        "\n"
      ],
      "metadata": {
        "id": "BQA7FXLgFHKA"
      }
    },
    {
      "cell_type": "code",
      "source": [
        "dateTime = \"2025-03-04T12:07:19+02:00\"\n",
        "dateTime.index(\"4\")"
      ],
      "metadata": {
        "id": "t5EU7g4uQFAP",
        "outputId": "57cd65db-c70a-44ce-df43-6d782c6a55ae",
        "colab": {
          "base_uri": "https://localhost:8080/"
        }
      },
      "execution_count": 34,
      "outputs": [
        {
          "output_type": "execute_result",
          "data": {
            "text/plain": [
              "9"
            ]
          },
          "metadata": {},
          "execution_count": 34
        }
      ]
    },
    {
      "cell_type": "code",
      "source": [
        "print(dateTime[0:10])"
      ],
      "metadata": {
        "id": "63apoI2SUbz4",
        "outputId": "478ba281-46f7-46f3-e447-ffbc67a3cf1d",
        "colab": {
          "base_uri": "https://localhost:8080/"
        }
      },
      "execution_count": 36,
      "outputs": [
        {
          "output_type": "stream",
          "name": "stdout",
          "text": [
            "2025-03-04\n"
          ]
        }
      ]
    },
    {
      "cell_type": "code",
      "source": [
        "Date = dateTime[0:10]\n",
        "print(Date)"
      ],
      "metadata": {
        "id": "onoUR6VDVM96",
        "outputId": "e746c1bd-4899-40ff-88d2-03356540f3f5",
        "colab": {
          "base_uri": "https://localhost:8080/"
        }
      },
      "execution_count": 37,
      "outputs": [
        {
          "output_type": "stream",
          "name": "stdout",
          "text": [
            "2025-03-04\n"
          ]
        }
      ]
    },
    {
      "cell_type": "code",
      "source": [
        "dateTime.index(\"1\")"
      ],
      "metadata": {
        "id": "B0YN8Yk8W9gH",
        "outputId": "3d3d91c0-953d-43ad-8120-77d2a5935f7c",
        "colab": {
          "base_uri": "https://localhost:8080/"
        }
      },
      "execution_count": 42,
      "outputs": [
        {
          "output_type": "execute_result",
          "data": {
            "text/plain": [
              "11"
            ]
          },
          "metadata": {},
          "execution_count": 42
        }
      ]
    },
    {
      "cell_type": "code",
      "source": [
        "print(dateTime[11:])"
      ],
      "metadata": {
        "id": "YYNewr4qXOwf",
        "outputId": "8c3989e2-2be1-4f2e-9ee0-a9d75a78af10",
        "colab": {
          "base_uri": "https://localhost:8080/"
        }
      },
      "execution_count": 43,
      "outputs": [
        {
          "output_type": "stream",
          "name": "stdout",
          "text": [
            "12:07:19+02:00\n"
          ]
        }
      ]
    },
    {
      "cell_type": "code",
      "source": [
        "Time = dateTime[11:]\n",
        "print(Time)"
      ],
      "metadata": {
        "id": "0Q6gUveMXYjN",
        "outputId": "7ac1230f-f37b-4679-b204-1d8b4ef774d1",
        "colab": {
          "base_uri": "https://localhost:8080/"
        }
      },
      "execution_count": 44,
      "outputs": [
        {
          "output_type": "stream",
          "name": "stdout",
          "text": [
            "12:07:19+02:00\n"
          ]
        }
      ]
    },
    {
      "cell_type": "code",
      "source": [
        "custom_datetime = Date + \", \" + Time\n",
        "print(custom_datetime)"
      ],
      "metadata": {
        "id": "hI-apOr-X6wu",
        "outputId": "23868c7d-b060-41e8-dac1-cd4c45c2f14f",
        "colab": {
          "base_uri": "https://localhost:8080/"
        }
      },
      "execution_count": 45,
      "outputs": [
        {
          "output_type": "stream",
          "name": "stdout",
          "text": [
            "2025-03-04, 12:07:19+02:00\n"
          ]
        }
      ]
    },
    {
      "cell_type": "code",
      "source": [
        "custom_datetime.replace(\",\",\"T\")"
      ],
      "metadata": {
        "id": "cEf6g06yYIRA",
        "outputId": "e8cdb862-22f2-4360-d5e2-ca23b76ed203",
        "colab": {
          "base_uri": "https://localhost:8080/",
          "height": 36
        }
      },
      "execution_count": 48,
      "outputs": [
        {
          "output_type": "execute_result",
          "data": {
            "text/plain": [
              "'2025-03-04T 12:07:19+02:00'"
            ],
            "application/vnd.google.colaboratory.intrinsic+json": {
              "type": "string"
            }
          },
          "metadata": {},
          "execution_count": 48
        }
      ]
    },
    {
      "cell_type": "code",
      "source": [
        "custom_datetime = custom_datetime.replace(\",\",\"T\")\n",
        "print(custom_datetime)"
      ],
      "metadata": {
        "id": "7Rsm-KqKZQPZ",
        "outputId": "936fba05-c19b-4a86-acef-885b0030a508",
        "colab": {
          "base_uri": "https://localhost:8080/"
        }
      },
      "execution_count": 49,
      "outputs": [
        {
          "output_type": "stream",
          "name": "stdout",
          "text": [
            "2025-03-04T 12:07:19+02:00\n"
          ]
        }
      ]
    }
  ]
}